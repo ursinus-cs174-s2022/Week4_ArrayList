{
 "cells": [
  {
   "cell_type": "code",
   "execution_count": null,
   "id": "3cf51090",
   "metadata": {},
   "outputs": [],
   "source": [
    "import numpy as np\n",
    "\n",
    "class ArrayList:\n",
    "    def __init__(self, initial=10, fac=0.3):\n",
    "        \"\"\"\n",
    "        Parameters\n",
    "        -----------\n",
    "        initial: int\n",
    "            Size of initial array\n",
    "        fac: float\n",
    "            Factor at which to halve the array\n",
    "        \"\"\"\n",
    "        self.arr = np.zeros(initial)\n",
    "        self.N = 0\n",
    "        self.fac = fac\n",
    "    \n",
    "    def add(self, x):\n",
    "        ## TODO: This will eventually go out of bounds!\n",
    "        self.arr[self.N] = x\n",
    "        self.N += 1\n",
    "        ## TODO: Need to resize array and copy things\n",
    "        ## If array runs out of space, create a new array\n",
    "        ## with double the size using np.zeros, and copy\n",
    "        ## everything over\n",
    "    \n",
    "    def remove(self, idx):\n",
    "        \"\"\"\n",
    "        Remove the element at index idx and shift everything\n",
    "        over to the left\n",
    "        \n",
    "        If you are using fewer than int(self.N*fac) elements, \n",
    "        then halve the array length \n",
    "        \"\"\"\n",
    "        ## TODO: Fill this in\n",
    "        minlen = int(self.N*self.fac)\n",
    "    \n",
    "    def __str__(self):\n",
    "        s = \"[\"\n",
    "        for i in range(self.N):\n",
    "            s += \"{}\".format(self.arr[i])\n",
    "            if i < self.N-1:\n",
    "                s += \", \"\n",
    "        s += \"]\"\n",
    "        return s\n",
    "    \n",
    "mylist = ArrayList()\n",
    "np.random.seed(0)\n",
    "# Add 5 random numbers\n",
    "for idx in np.random.randint(0, 100, 5):\n",
    "    mylist.add(idx)\n",
    "print(mylist)\n",
    "\n",
    "## TODO: Test removing some indices"
   ]
  },
  {
   "cell_type": "code",
   "execution_count": null,
   "id": "29acfd6a",
   "metadata": {},
   "outputs": [],
   "source": []
  }
 ],
 "metadata": {
  "kernelspec": {
   "display_name": "Python 3 (ipykernel)",
   "language": "python",
   "name": "python3"
  },
  "language_info": {
   "codemirror_mode": {
    "name": "ipython",
    "version": 3
   },
   "file_extension": ".py",
   "mimetype": "text/x-python",
   "name": "python",
   "nbconvert_exporter": "python",
   "pygments_lexer": "ipython3",
   "version": "3.9.7"
  }
 },
 "nbformat": 4,
 "nbformat_minor": 5
}
